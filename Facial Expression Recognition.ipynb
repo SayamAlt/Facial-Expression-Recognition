{
 "cells": [
  {
   "cell_type": "code",
   "execution_count": 1,
   "id": "54a3dc2c",
   "metadata": {
    "_cell_guid": "b1076dfc-b9ad-4769-8c92-a6c4dae69d19",
    "_uuid": "8f2839f25d086af736a60e9eeb907d3b93b6e0e5",
    "execution": {
     "iopub.execute_input": "2022-08-16T06:06:29.591157Z",
     "iopub.status.busy": "2022-08-16T06:06:29.590547Z",
     "iopub.status.idle": "2022-08-16T06:06:58.318945Z",
     "shell.execute_reply": "2022-08-16T06:06:58.317425Z"
    },
    "papermill": {
     "duration": 28.742788,
     "end_time": "2022-08-16T06:06:58.322230",
     "exception": false,
     "start_time": "2022-08-16T06:06:29.579442",
     "status": "completed"
    },
    "tags": []
   },
   "outputs": [],
   "source": [
    "# This Python 3 environment comes with many helpful analytics libraries installed\n",
    "# It is defined by the kaggle/python Docker image: https://github.com/kaggle/docker-python\n",
    "# For example, here's several helpful packages to load\n",
    "\n",
    "import numpy as np # linear algebra\n",
    "import pandas as pd # data processing, CSV file I/O (e.g. pd.read_csv)\n",
    "\n",
    "# Input data files are available in the read-only \"../input/\" directory\n",
    "# For example, running this (by clicking run or pressing Shift+Enter) will list all files under the input directory\n",
    "\n",
    "import os\n",
    "for dirname, _, filenames in os.walk('/kaggle/input'):\n",
    "    for filename in filenames:\n",
    "        os.path.join(dirname, filename)\n",
    "\n",
    "# You can write up to 20GB to the current directory (/kaggle/working/) that gets preserved as output when you create a version using \"Save & Run All\" \n",
    "# You can also write temporary files to /kaggle/temp/, but they won't be saved outside of the current session"
   ]
  },
  {
   "cell_type": "code",
   "execution_count": 2,
   "id": "0b590b5b",
   "metadata": {
    "execution": {
     "iopub.execute_input": "2022-08-16T06:06:58.337864Z",
     "iopub.status.busy": "2022-08-16T06:06:58.337455Z",
     "iopub.status.idle": "2022-08-16T06:07:06.945302Z",
     "shell.execute_reply": "2022-08-16T06:07:06.944381Z"
    },
    "papermill": {
     "duration": 8.618471,
     "end_time": "2022-08-16T06:07:06.948037",
     "exception": false,
     "start_time": "2022-08-16T06:06:58.329566",
     "status": "completed"
    },
    "tags": []
   },
   "outputs": [],
   "source": [
    "from PIL import Image\n",
    "import seaborn as sns\n",
    "import matplotlib.pyplot as plt\n",
    "%matplotlib inline\n",
    "import warnings, random, cv2\n",
    "warnings.filterwarnings('ignore')\n",
    "import tensorflow as tf\n",
    "from tqdm.notebook import tqdm\n",
    "from sklearn.preprocessing import LabelEncoder\n",
    "from tensorflow.keras.utils import to_categorical\n",
    "from keras.models import Sequential\n",
    "from keras.preprocessing.image import load_img\n",
    "from keras.layers import Conv2D, Flatten, Dropout, Dense, MaxPooling2D, BatchNormalization"
   ]
  },
  {
   "cell_type": "code",
   "execution_count": 3,
   "id": "f315ca6f",
   "metadata": {
    "execution": {
     "iopub.execute_input": "2022-08-16T06:07:06.963650Z",
     "iopub.status.busy": "2022-08-16T06:07:06.962922Z",
     "iopub.status.idle": "2022-08-16T06:07:06.968560Z",
     "shell.execute_reply": "2022-08-16T06:07:06.967370Z"
    },
    "papermill": {
     "duration": 0.016171,
     "end_time": "2022-08-16T06:07:06.971048",
     "exception": false,
     "start_time": "2022-08-16T06:07:06.954877",
     "status": "completed"
    },
    "tags": []
   },
   "outputs": [],
   "source": [
    "train_dir = \"../input/facial-expression-dataset/train/train/\"\n",
    "test_dir = \"../input/facial-expression-dataset/test/test/\""
   ]
  },
  {
   "cell_type": "code",
   "execution_count": 4,
   "id": "b75db3e1",
   "metadata": {
    "execution": {
     "iopub.execute_input": "2022-08-16T06:07:06.986705Z",
     "iopub.status.busy": "2022-08-16T06:07:06.985668Z",
     "iopub.status.idle": "2022-08-16T06:07:06.992102Z",
     "shell.execute_reply": "2022-08-16T06:07:06.991141Z"
    },
    "papermill": {
     "duration": 0.016755,
     "end_time": "2022-08-16T06:07:06.994489",
     "exception": false,
     "start_time": "2022-08-16T06:07:06.977734",
     "status": "completed"
    },
    "tags": []
   },
   "outputs": [],
   "source": [
    "def import_images(directory):\n",
    "    image_paths = []\n",
    "    labels = []\n",
    "    \n",
    "    for category in os.listdir(directory):\n",
    "        for filename in os.listdir(directory+category):\n",
    "            image_path = os.path.join(directory,category,filename)\n",
    "            image_paths.append(image_path)\n",
    "            labels.append(category)\n",
    "        \n",
    "    return image_paths, labels"
   ]
  },
  {
   "cell_type": "code",
   "execution_count": 5,
   "id": "db8e3949",
   "metadata": {
    "execution": {
     "iopub.execute_input": "2022-08-16T06:07:07.010243Z",
     "iopub.status.busy": "2022-08-16T06:07:07.009502Z",
     "iopub.status.idle": "2022-08-16T06:07:07.141455Z",
     "shell.execute_reply": "2022-08-16T06:07:07.140256Z"
    },
    "papermill": {
     "duration": 0.144382,
     "end_time": "2022-08-16T06:07:07.145721",
     "exception": false,
     "start_time": "2022-08-16T06:07:07.001339",
     "status": "completed"
    },
    "tags": []
   },
   "outputs": [
    {
     "data": {
      "text/html": [
       "<div>\n",
       "<style scoped>\n",
       "    .dataframe tbody tr th:only-of-type {\n",
       "        vertical-align: middle;\n",
       "    }\n",
       "\n",
       "    .dataframe tbody tr th {\n",
       "        vertical-align: top;\n",
       "    }\n",
       "\n",
       "    .dataframe thead th {\n",
       "        text-align: right;\n",
       "    }\n",
       "</style>\n",
       "<table border=\"1\" class=\"dataframe\">\n",
       "  <thead>\n",
       "    <tr style=\"text-align: right;\">\n",
       "      <th></th>\n",
       "      <th>image</th>\n",
       "      <th>label</th>\n",
       "    </tr>\n",
       "  </thead>\n",
       "  <tbody>\n",
       "    <tr>\n",
       "      <th>0</th>\n",
       "      <td>../input/facial-expression-dataset/train/train...</td>\n",
       "      <td>surprise</td>\n",
       "    </tr>\n",
       "    <tr>\n",
       "      <th>1</th>\n",
       "      <td>../input/facial-expression-dataset/train/train...</td>\n",
       "      <td>angry</td>\n",
       "    </tr>\n",
       "    <tr>\n",
       "      <th>2</th>\n",
       "      <td>../input/facial-expression-dataset/train/train...</td>\n",
       "      <td>angry</td>\n",
       "    </tr>\n",
       "    <tr>\n",
       "      <th>3</th>\n",
       "      <td>../input/facial-expression-dataset/train/train...</td>\n",
       "      <td>angry</td>\n",
       "    </tr>\n",
       "    <tr>\n",
       "      <th>4</th>\n",
       "      <td>../input/facial-expression-dataset/train/train...</td>\n",
       "      <td>neutral</td>\n",
       "    </tr>\n",
       "  </tbody>\n",
       "</table>\n",
       "</div>"
      ],
      "text/plain": [
       "                                               image     label\n",
       "0  ../input/facial-expression-dataset/train/train...  surprise\n",
       "1  ../input/facial-expression-dataset/train/train...     angry\n",
       "2  ../input/facial-expression-dataset/train/train...     angry\n",
       "3  ../input/facial-expression-dataset/train/train...     angry\n",
       "4  ../input/facial-expression-dataset/train/train...   neutral"
      ]
     },
     "execution_count": 5,
     "metadata": {},
     "output_type": "execute_result"
    }
   ],
   "source": [
    "train = pd.DataFrame()\n",
    "train['image'], train['label'] = import_images(train_dir)\n",
    "train = train.sample(frac=1).reset_index(drop=True)\n",
    "train.head()"
   ]
  },
  {
   "cell_type": "code",
   "execution_count": 6,
   "id": "c07c66a9",
   "metadata": {
    "execution": {
     "iopub.execute_input": "2022-08-16T06:07:07.163065Z",
     "iopub.status.busy": "2022-08-16T06:07:07.161824Z",
     "iopub.status.idle": "2022-08-16T06:07:07.202117Z",
     "shell.execute_reply": "2022-08-16T06:07:07.200870Z"
    },
    "papermill": {
     "duration": 0.051842,
     "end_time": "2022-08-16T06:07:07.204734",
     "exception": false,
     "start_time": "2022-08-16T06:07:07.152892",
     "status": "completed"
    },
    "tags": []
   },
   "outputs": [
    {
     "data": {
      "text/html": [
       "<div>\n",
       "<style scoped>\n",
       "    .dataframe tbody tr th:only-of-type {\n",
       "        vertical-align: middle;\n",
       "    }\n",
       "\n",
       "    .dataframe tbody tr th {\n",
       "        vertical-align: top;\n",
       "    }\n",
       "\n",
       "    .dataframe thead th {\n",
       "        text-align: right;\n",
       "    }\n",
       "</style>\n",
       "<table border=\"1\" class=\"dataframe\">\n",
       "  <thead>\n",
       "    <tr style=\"text-align: right;\">\n",
       "      <th></th>\n",
       "      <th>image</th>\n",
       "      <th>label</th>\n",
       "    </tr>\n",
       "  </thead>\n",
       "  <tbody>\n",
       "    <tr>\n",
       "      <th>0</th>\n",
       "      <td>../input/facial-expression-dataset/test/test/s...</td>\n",
       "      <td>surprise</td>\n",
       "    </tr>\n",
       "    <tr>\n",
       "      <th>1</th>\n",
       "      <td>../input/facial-expression-dataset/test/test/s...</td>\n",
       "      <td>surprise</td>\n",
       "    </tr>\n",
       "    <tr>\n",
       "      <th>2</th>\n",
       "      <td>../input/facial-expression-dataset/test/test/s...</td>\n",
       "      <td>surprise</td>\n",
       "    </tr>\n",
       "    <tr>\n",
       "      <th>3</th>\n",
       "      <td>../input/facial-expression-dataset/test/test/s...</td>\n",
       "      <td>surprise</td>\n",
       "    </tr>\n",
       "    <tr>\n",
       "      <th>4</th>\n",
       "      <td>../input/facial-expression-dataset/test/test/s...</td>\n",
       "      <td>surprise</td>\n",
       "    </tr>\n",
       "  </tbody>\n",
       "</table>\n",
       "</div>"
      ],
      "text/plain": [
       "                                               image     label\n",
       "0  ../input/facial-expression-dataset/test/test/s...  surprise\n",
       "1  ../input/facial-expression-dataset/test/test/s...  surprise\n",
       "2  ../input/facial-expression-dataset/test/test/s...  surprise\n",
       "3  ../input/facial-expression-dataset/test/test/s...  surprise\n",
       "4  ../input/facial-expression-dataset/test/test/s...  surprise"
      ]
     },
     "execution_count": 6,
     "metadata": {},
     "output_type": "execute_result"
    }
   ],
   "source": [
    "test = pd.DataFrame()\n",
    "test['image'], test['label'] = import_images(test_dir)\n",
    "test.head()"
   ]
  },
  {
   "cell_type": "markdown",
   "id": "91a25d60",
   "metadata": {
    "papermill": {
     "duration": 0.00698,
     "end_time": "2022-08-16T06:07:07.219108",
     "exception": false,
     "start_time": "2022-08-16T06:07:07.212128",
     "status": "completed"
    },
    "tags": []
   },
   "source": [
    "## **Exploratory Data Analysis**"
   ]
  },
  {
   "cell_type": "code",
   "execution_count": 7,
   "id": "219f6bb7",
   "metadata": {
    "execution": {
     "iopub.execute_input": "2022-08-16T06:07:07.234708Z",
     "iopub.status.busy": "2022-08-16T06:07:07.234306Z",
     "iopub.status.idle": "2022-08-16T06:07:07.449168Z",
     "shell.execute_reply": "2022-08-16T06:07:07.447799Z"
    },
    "papermill": {
     "duration": 0.225623,
     "end_time": "2022-08-16T06:07:07.451722",
     "exception": false,
     "start_time": "2022-08-16T06:07:07.226099",
     "status": "completed"
    },
    "tags": []
   },
   "outputs": [
    {
     "data": {
      "text/plain": [
       "<AxesSubplot:xlabel='label', ylabel='count'>"
      ]
     },
     "execution_count": 7,
     "metadata": {},
     "output_type": "execute_result"
    },
    {
     "data": {
      "image/png": "[encoded data removed]",
      "text/plain": [
       "<Figure size 432x288 with 1 Axes>"
      ]
     },
     "metadata": {
      "needs_background": "light"
     },
     "output_type": "display_data"
    }
   ],
   "source": [
    "sns.countplot(train.label)"
   ]
  },
  {
   "cell_type": "code",
   "execution_count": 8,
   "id": "2f06eae5",
   "metadata": {
    "execution": {
     "iopub.execute_input": "2022-08-16T06:07:07.468107Z",
     "iopub.status.busy": "2022-08-16T06:07:07.467699Z",
     "iopub.status.idle": "2022-08-16T06:07:07.654746Z",
     "shell.execute_reply": "2022-08-16T06:07:07.653369Z"
    },
    "papermill": {
     "duration": 0.198454,
     "end_time": "2022-08-16T06:07:07.657525",
     "exception": false,
     "start_time": "2022-08-16T06:07:07.459071",
     "status": "completed"
    },
    "tags": []
   },
   "outputs": [
    {
     "data": {
      "image/png": "[encoded data removed]",
      "text/plain": [
       "<Figure size 432x288 with 1 Axes>"
      ]
     },
     "metadata": {
      "needs_background": "light"
     },
     "output_type": "display_data"
    }
   ],
   "source": [
    "img = Image.open(train['image'][0])\n",
    "plt.imshow(img,cmap='gray');"
   ]
  },
  {
   "cell_type": "code",
   "execution_count": 9,
   "id": "60e6d2e0",
   "metadata": {
    "execution": {
     "iopub.execute_input": "2022-08-16T06:07:07.674945Z",
     "iopub.status.busy": "2022-08-16T06:07:07.674139Z",
     "iopub.status.idle": "2022-08-16T06:07:07.861948Z",
     "shell.execute_reply": "2022-08-16T06:07:07.860770Z"
    },
    "papermill": {
     "duration": 0.199564,
     "end_time": "2022-08-16T06:07:07.864789",
     "exception": false,
     "start_time": "2022-08-16T06:07:07.665225",
     "status": "completed"
    },
    "tags": []
   },
   "outputs": [
    {
     "data": {
      "image/png": "[encoded data removed]",
      "text/plain": [
       "<Figure size 432x288 with 1 Axes>"
      ]
     },
     "metadata": {
      "needs_background": "light"
     },
     "output_type": "display_data"
    }
   ],
   "source": [
    "img = Image.open(train['image'][232])\n",
    "plt.imshow(img,cmap='gray');"
   ]
  },
  {
   "cell_type": "code",
   "execution_count": 10,
   "id": "d2ac590a",
   "metadata": {
    "execution": {
     "iopub.execute_input": "2022-08-16T06:07:07.883861Z",
     "iopub.status.busy": "2022-08-16T06:07:07.883470Z",
     "iopub.status.idle": "2022-08-16T06:07:09.191599Z",
     "shell.execute_reply": "2022-08-16T06:07:09.190737Z"
    },
    "papermill": {
     "duration": 1.321857,
     "end_time": "2022-08-16T06:07:09.196113",
     "exception": false,
     "start_time": "2022-08-16T06:07:07.874256",
     "status": "completed"
    },
    "tags": []
   },
   "outputs": [
    {
     "data": {
      "image/png": "[encoded data removed]",
      "text/plain": [
       "<Figure size 1440x1440 with 25 Axes>"
      ]
     },
     "metadata": {
      "needs_background": "light"
     },
     "output_type": "display_data"
    }
   ],
   "source": [
    "plt.figure(figsize=(20,20))\n",
    "files = train.iloc[0:25]\n",
    "\n",
    "for idx, file, label in files.itertuples():\n",
    "    plt.subplot(5,5,idx+1)\n",
    "    image = load_img(file)\n",
    "    image = np.array(image)\n",
    "    plt.imshow(image,cmap='gray')\n",
    "    plt.title(label)\n",
    "    plt.axis('off')"
   ]
  },
  {
   "cell_type": "markdown",
   "id": "cbd22707",
   "metadata": {
    "papermill": {
     "duration": 0.010271,
     "end_time": "2022-08-16T06:07:09.217445",
     "exception": false,
     "start_time": "2022-08-16T06:07:09.207174",
     "status": "completed"
    },
    "tags": []
   },
   "source": [
    "## **Feature Extraction**"
   ]
  },
  {
   "cell_type": "code",
   "execution_count": 11,
   "id": "a47bb788",
   "metadata": {
    "execution": {
     "iopub.execute_input": "2022-08-16T06:07:09.240199Z",
     "iopub.status.busy": "2022-08-16T06:07:09.239792Z",
     "iopub.status.idle": "2022-08-16T06:07:09.245514Z",
     "shell.execute_reply": "2022-08-16T06:07:09.244661Z"
    },
    "papermill": {
     "duration": 0.021141,
     "end_time": "2022-08-16T06:07:09.249248",
     "exception": false,
     "start_time": "2022-08-16T06:07:09.228107",
     "status": "completed"
    },
    "tags": []
   },
   "outputs": [],
   "source": [
    "def extract_features(images):\n",
    "    features = []\n",
    "    \n",
    "    for file in tqdm(images):\n",
    "        img = load_img(file,grayscale=True)\n",
    "        img = np.array(img)\n",
    "        features.append(img)\n",
    "    \n",
    "    features = np.array(features).reshape(len(features),48,48,1)\n",
    "    return features"
   ]
  },
  {
   "cell_type": "code",
   "execution_count": 12,
   "id": "7d400559",
   "metadata": {
    "execution": {
     "iopub.execute_input": "2022-08-16T06:07:09.271114Z",
     "iopub.status.busy": "2022-08-16T06:07:09.270719Z",
     "iopub.status.idle": "2022-08-16T06:09:43.288467Z",
     "shell.execute_reply": "2022-08-16T06:09:43.287206Z"
    },
    "papermill": {
     "duration": 154.03208,
     "end_time": "2022-08-16T06:09:43.291460",
     "exception": false,
     "start_time": "2022-08-16T06:07:09.259380",
     "status": "completed"
    },
    "tags": []
   },
   "outputs": [
    {
     "data": {
      "application/vnd.jupyter.widget-view+json": {
       "model_id": "bf2006e2c1bb429d9bc5c3c43c1ea398",
       "version_major": 2,
       "version_minor": 0
      },
      "text/plain": [
       "  0%|          | 0/28709 [00:00<?, ?it/s]"
      ]
     },
     "metadata": {},
     "output_type": "display_data"
    },
    {
     "data": {
      "application/vnd.jupyter.widget-view+json": {
       "model_id": "fed5b2e967be46cab940fcddc17221df",
       "version_major": 2,
       "version_minor": 0
      },
      "text/plain": [
       "  0%|          | 0/7178 [00:00<?, ?it/s]"
      ]
     },
     "metadata": {},
     "output_type": "display_data"
    }
   ],
   "source": [
    "feat_train = extract_features(train['image'])\n",
    "feat_test = extract_features(test['image'])"
   ]
  },
  {
   "cell_type": "markdown",
   "id": "518e2d57",
   "metadata": {
    "papermill": {
     "duration": 0.010445,
     "end_time": "2022-08-16T06:09:43.313084",
     "exception": false,
     "start_time": "2022-08-16T06:09:43.302639",
     "status": "completed"
    },
    "tags": []
   },
   "source": [
    "***Normalize the images***"
   ]
  },
  {
   "cell_type": "code",
   "execution_count": 13,
   "id": "bf014b7f",
   "metadata": {
    "execution": {
     "iopub.execute_input": "2022-08-16T06:09:43.335803Z",
     "iopub.status.busy": "2022-08-16T06:09:43.335396Z",
     "iopub.status.idle": "2022-08-16T06:09:43.625075Z",
     "shell.execute_reply": "2022-08-16T06:09:43.623868Z"
    },
    "papermill": {
     "duration": 0.304204,
     "end_time": "2022-08-16T06:09:43.627797",
     "exception": false,
     "start_time": "2022-08-16T06:09:43.323593",
     "status": "completed"
    },
    "tags": []
   },
   "outputs": [],
   "source": [
    "X_train = feat_train / 255.\n",
    "X_test = feat_test / 255."
   ]
  },
  {
   "cell_type": "markdown",
   "id": "f8c2cce4",
   "metadata": {
    "papermill": {
     "duration": 0.010393,
     "end_time": "2022-08-16T06:09:43.648793",
     "exception": false,
     "start_time": "2022-08-16T06:09:43.638400",
     "status": "completed"
    },
    "tags": []
   },
   "source": [
    "***Convert labels to integers***"
   ]
  },
  {
   "cell_type": "code",
   "execution_count": 14,
   "id": "b96b5bf6",
   "metadata": {
    "execution": {
     "iopub.execute_input": "2022-08-16T06:09:43.671463Z",
     "iopub.status.busy": "2022-08-16T06:09:43.671021Z",
     "iopub.status.idle": "2022-08-16T06:09:43.686260Z",
     "shell.execute_reply": "2022-08-16T06:09:43.685035Z"
    },
    "papermill": {
     "duration": 0.029476,
     "end_time": "2022-08-16T06:09:43.688812",
     "exception": false,
     "start_time": "2022-08-16T06:09:43.659336",
     "status": "completed"
    },
    "tags": []
   },
   "outputs": [],
   "source": [
    "le = LabelEncoder()\n",
    "y_train = le.fit_transform(train['label'])\n",
    "y_test = le.transform(test['label'])"
   ]
  },
  {
   "cell_type": "code",
   "execution_count": 15,
   "id": "a6bd0d53",
   "metadata": {
    "execution": {
     "iopub.execute_input": "2022-08-16T06:09:43.711527Z",
     "iopub.status.busy": "2022-08-16T06:09:43.711110Z",
     "iopub.status.idle": "2022-08-16T06:09:43.717789Z",
     "shell.execute_reply": "2022-08-16T06:09:43.716663Z"
    },
    "papermill": {
     "duration": 0.021109,
     "end_time": "2022-08-16T06:09:43.720475",
     "exception": false,
     "start_time": "2022-08-16T06:09:43.699366",
     "status": "completed"
    },
    "tags": []
   },
   "outputs": [],
   "source": [
    "y_train = to_categorical(y_train,num_classes=7)\n",
    "y_test = to_categorical(y_test,num_classes=7)"
   ]
  },
  {
   "cell_type": "markdown",
   "id": "518034bb",
   "metadata": {
    "papermill": {
     "duration": 0.010444,
     "end_time": "2022-08-16T06:09:43.742378",
     "exception": false,
     "start_time": "2022-08-16T06:09:43.731934",
     "status": "completed"
    },
    "tags": []
   },
   "source": [
    "## **Model Architecture**"
   ]
  },
  {
   "cell_type": "code",
   "execution_count": 16,
   "id": "23672a28",
   "metadata": {
    "execution": {
     "iopub.execute_input": "2022-08-16T06:09:43.765133Z",
     "iopub.status.busy": "2022-08-16T06:09:43.764700Z",
     "iopub.status.idle": "2022-08-16T06:09:44.320892Z",
     "shell.execute_reply": "2022-08-16T06:09:44.319355Z"
    },
    "papermill": {
     "duration": 0.571008,
     "end_time": "2022-08-16T06:09:44.323883",
     "exception": false,
     "start_time": "2022-08-16T06:09:43.752875",
     "status": "completed"
    },
    "tags": []
   },
   "outputs": [
    {
     "name": "stderr",
     "output_type": "stream",
     "text": [
      "2022-08-16 06:09:43.811235: I tensorflow/core/common_runtime/process_util.cc:146] Creating new thread pool with default inter op setting: 2. Tune using inter_op_parallelism_threads for best performance.\n"
     ]
    }
   ],
   "source": [
    "cnn = Sequential()\n",
    "\n",
    "# 1st Convolutional Layer\n",
    "cnn.add(Conv2D(filters=128,kernel_size=(3,3),activation='relu',input_shape=(48,48,1)))\n",
    "cnn.add(MaxPooling2D(pool_size=(2,2)))\n",
    "cnn.add(BatchNormalization())\n",
    "cnn.add(Dropout(0.3))\n",
    "\n",
    "# 2nd Convolutional Layer\n",
    "cnn.add(Conv2D(filters=256,kernel_size=(3,3),activation='relu'))\n",
    "cnn.add(MaxPooling2D(pool_size=(2,2)))\n",
    "cnn.add(BatchNormalization())\n",
    "cnn.add(Dropout(0.25))\n",
    "\n",
    "# 3rd Convolutional Layer\n",
    "cnn.add(Conv2D(filters=512,kernel_size=(3,3),activation='relu'))\n",
    "cnn.add(MaxPooling2D(pool_size=(2,2)))\n",
    "cnn.add(BatchNormalization())\n",
    "cnn.add(Dropout(0.3))\n",
    "\n",
    "# 4th Convolutional Layer\n",
    "cnn.add(Conv2D(filters=512,kernel_size=(3,3),activation='relu'))\n",
    "cnn.add(MaxPooling2D(pool_size=(2,2)))\n",
    "cnn.add(BatchNormalization())\n",
    "cnn.add(Dropout(0.32))\n",
    "\n",
    "# Flatten\n",
    "cnn.add(Flatten())\n",
    "\n",
    "# 1st Fully-Connected Layer\n",
    "cnn.add(Dense(units=512,activation='relu'))\n",
    "cnn.add(BatchNormalization())\n",
    "cnn.add(Dropout(0.3))\n",
    "\n",
    "# 2nd Fully-Connected Layer\n",
    "cnn.add(Dense(units=512,activation='relu'))\n",
    "cnn.add(BatchNormalization())\n",
    "cnn.add(Dropout(0.25))\n",
    "\n",
    "# Output Layer\n",
    "cnn.add(Dense(units=7,activation='softmax'))"
   ]
  },
  {
   "cell_type": "code",
   "execution_count": 17,
   "id": "3b1159ce",
   "metadata": {
    "execution": {
     "iopub.execute_input": "2022-08-16T06:09:44.347195Z",
     "iopub.status.busy": "2022-08-16T06:09:44.346480Z",
     "iopub.status.idle": "2022-08-16T06:09:44.360188Z",
     "shell.execute_reply": "2022-08-16T06:09:44.359321Z"
    },
    "papermill": {
     "duration": 0.027838,
     "end_time": "2022-08-16T06:09:44.362493",
     "exception": false,
     "start_time": "2022-08-16T06:09:44.334655",
     "status": "completed"
    },
    "tags": []
   },
   "outputs": [],
   "source": [
    "cnn.compile(loss='categorical_crossentropy',optimizer='adam',metrics=['accuracy'])"
   ]
  },
  {
   "cell_type": "code",
   "execution_count": 18,
   "id": "848473c2",
   "metadata": {
    "execution": {
     "iopub.execute_input": "2022-08-16T06:09:44.385774Z",
     "iopub.status.busy": "2022-08-16T06:09:44.385079Z",
     "iopub.status.idle": "2022-08-16T06:09:44.393511Z",
     "shell.execute_reply": "2022-08-16T06:09:44.392324Z"
    },
    "papermill": {
     "duration": 0.022859,
     "end_time": "2022-08-16T06:09:44.395870",
     "exception": false,
     "start_time": "2022-08-16T06:09:44.373011",
     "status": "completed"
    },
    "tags": []
   },
   "outputs": [
    {
     "name": "stdout",
     "output_type": "stream",
     "text": [
      "Model: \"sequential\"\n",
      "_________________________________________________________________\n",
      "Layer (type)                 Output Shape              Param #   \n",
      "=================================================================\n",
      "conv2d (Conv2D)              (None, 46, 46, 128)       1280      \n",
      "_________________________________________________________________\n",
      "max_pooling2d (MaxPooling2D) (None, 23, 23, 128)       0         \n",
      "_________________________________________________________________\n",
      "batch_normalization (BatchNo (None, 23, 23, 128)       512       \n",
      "_________________________________________________________________\n",
      "dropout (Dropout)            (None, 23, 23, 128)       0         \n",
      "_________________________________________________________________\n",
      "conv2d_1 (Conv2D)            (None, 21, 21, 256)       295168    \n",
      "_________________________________________________________________\n",
      "max_pooling2d_1 (MaxPooling2 (None, 10, 10, 256)       0         \n",
      "_________________________________________________________________\n",
      "batch_normalization_1 (Batch (None, 10, 10, 256)       1024      \n",
      "_________________________________________________________________\n",
      "dropout_1 (Dropout)          (None, 10, 10, 256)       0         \n",
      "_________________________________________________________________\n",
      "conv2d_2 (Conv2D)            (None, 8, 8, 512)         1180160   \n",
      "_________________________________________________________________\n",
      "max_pooling2d_2 (MaxPooling2 (None, 4, 4, 512)         0         \n",
      "_________________________________________________________________\n",
      "batch_normalization_2 (Batch (None, 4, 4, 512)         2048      \n",
      "_________________________________________________________________\n",
      "dropout_2 (Dropout)          (None, 4, 4, 512)         0         \n",
      "_________________________________________________________________\n",
      "conv2d_3 (Conv2D)            (None, 2, 2, 512)         2359808   \n",
      "_________________________________________________________________\n",
      "max_pooling2d_3 (MaxPooling2 (None, 1, 1, 512)         0         \n",
      "_________________________________________________________________\n",
      "batch_normalization_3 (Batch (None, 1, 1, 512)         2048      \n",
      "_________________________________________________________________\n",
      "dropout_3 (Dropout)          (None, 1, 1, 512)         0         \n",
      "_________________________________________________________________\n",
      "flatten (Flatten)            (None, 512)               0         \n",
      "_________________________________________________________________\n",
      "dense (Dense)                (None, 512)               262656    \n",
      "_________________________________________________________________\n",
      "batch_normalization_4 (Batch (None, 512)               2048      \n",
      "_________________________________________________________________\n",
      "dropout_4 (Dropout)          (None, 512)               0         \n",
      "_________________________________________________________________\n",
      "dense_1 (Dense)              (None, 512)               262656    \n",
      "_________________________________________________________________\n",
      "batch_normalization_5 (Batch (None, 512)               2048      \n",
      "_________________________________________________________________\n",
      "dropout_5 (Dropout)          (None, 512)               0         \n",
      "_________________________________________________________________\n",
      "dense_2 (Dense)              (None, 7)                 3591      \n",
      "=================================================================\n",
      "Total params: 4,375,047\n",
      "Trainable params: 4,370,183\n",
      "Non-trainable params: 4,864\n",
      "_________________________________________________________________\n"
     ]
    }
   ],
   "source": [
    "cnn.summary()"
   ]
  },
  {
   "cell_type": "code",
   "execution_count": 19,
   "id": "cbfce54c",
   "metadata": {
    "execution": {
     "iopub.execute_input": "2022-08-16T06:09:44.419155Z",
     "iopub.status.busy": "2022-08-16T06:09:44.418769Z",
     "iopub.status.idle": "2022-08-16T12:21:54.481285Z",
     "shell.execute_reply": "2022-08-16T12:21:54.480051Z"
    },
    "papermill": {
     "duration": 22330.871651,
     "end_time": "2022-08-16T12:21:55.278145",
     "exception": false,
     "start_time": "2022-08-16T06:09:44.406494",
     "status": "completed"
    },
    "tags": []
   },
   "outputs": [
    {
     "name": "stderr",
     "output_type": "stream",
     "text": [
      "2022-08-16 06:09:44.910043: I tensorflow/compiler/mlir/mlir_graph_optimization_pass.cc:185] None of the MLIR Optimization Passes are enabled (registered 2)\n"
     ]
    },
    {
     "name": "stdout",
     "output_type": "stream",
     "text": [
      "Epoch 1/50\n",
      "225/225 [==============================] - 448s 2s/step - loss: 2.0283 - accuracy: 0.2630 - val_loss: 1.9376 - val_accuracy: 0.2471\n",
      "Epoch 2/50\n",
      "225/225 [==============================] - 445s 2s/step - loss: 1.5541 - accuracy: 0.4105 - val_loss: 1.5769 - val_accuracy: 0.3803\n",
      "Epoch 3/50\n",
      "225/225 [==============================] - 446s 2s/step - loss: 1.3491 - accuracy: 0.4886 - val_loss: 1.3027 - val_accuracy: 0.4971\n",
      "Epoch 4/50\n",
      "225/225 [==============================] - 444s 2s/step - loss: 1.2349 - accuracy: 0.5308 - val_loss: 1.6065 - val_accuracy: 0.4448\n",
      "Epoch 5/50\n",
      "225/225 [==============================] - 445s 2s/step - loss: 1.1501 - accuracy: 0.5607 - val_loss: 1.1594 - val_accuracy: 0.5580\n",
      "Epoch 6/50\n",
      "225/225 [==============================] - 444s 2s/step - loss: 1.0855 - accuracy: 0.5909 - val_loss: 1.1511 - val_accuracy: 0.5704\n",
      "Epoch 7/50\n",
      "225/225 [==============================] - 445s 2s/step - loss: 1.0149 - accuracy: 0.6168 - val_loss: 1.1092 - val_accuracy: 0.5847\n",
      "Epoch 8/50\n",
      "225/225 [==============================] - 446s 2s/step - loss: 0.9658 - accuracy: 0.6355 - val_loss: 1.1716 - val_accuracy: 0.5726\n",
      "Epoch 9/50\n",
      "225/225 [==============================] - 446s 2s/step - loss: 0.8957 - accuracy: 0.6664 - val_loss: 1.3619 - val_accuracy: 0.5273\n",
      "Epoch 10/50\n",
      "225/225 [==============================] - 445s 2s/step - loss: 0.8422 - accuracy: 0.6843 - val_loss: 1.1931 - val_accuracy: 0.5809\n",
      "Epoch 11/50\n",
      "225/225 [==============================] - 445s 2s/step - loss: 0.7821 - accuracy: 0.7077 - val_loss: 1.2177 - val_accuracy: 0.5659\n",
      "Epoch 12/50\n",
      "225/225 [==============================] - 446s 2s/step - loss: 0.7128 - accuracy: 0.7355 - val_loss: 1.1534 - val_accuracy: 0.6073\n",
      "Epoch 13/50\n",
      "225/225 [==============================] - 445s 2s/step - loss: 0.6573 - accuracy: 0.7585 - val_loss: 1.2209 - val_accuracy: 0.5886\n",
      "Epoch 14/50\n",
      "225/225 [==============================] - 446s 2s/step - loss: 0.6088 - accuracy: 0.7761 - val_loss: 1.1967 - val_accuracy: 0.6099\n",
      "Epoch 15/50\n",
      "225/225 [==============================] - 445s 2s/step - loss: 0.5511 - accuracy: 0.7965 - val_loss: 1.2398 - val_accuracy: 0.6098\n",
      "Epoch 16/50\n",
      "225/225 [==============================] - 444s 2s/step - loss: 0.5010 - accuracy: 0.8159 - val_loss: 1.4881 - val_accuracy: 0.5808\n",
      "Epoch 17/50\n",
      "225/225 [==============================] - 446s 2s/step - loss: 0.4581 - accuracy: 0.8317 - val_loss: 1.3876 - val_accuracy: 0.6198\n",
      "Epoch 18/50\n",
      "225/225 [==============================] - 440s 2s/step - loss: 0.4266 - accuracy: 0.8457 - val_loss: 1.2829 - val_accuracy: 0.6201\n",
      "Epoch 19/50\n",
      "225/225 [==============================] - 446s 2s/step - loss: 0.3900 - accuracy: 0.8561 - val_loss: 1.3547 - val_accuracy: 0.6188\n",
      "Epoch 20/50\n",
      "225/225 [==============================] - 445s 2s/step - loss: 0.3585 - accuracy: 0.8697 - val_loss: 1.3367 - val_accuracy: 0.6215\n",
      "Epoch 21/50\n",
      "225/225 [==============================] - 446s 2s/step - loss: 0.3378 - accuracy: 0.8802 - val_loss: 1.4488 - val_accuracy: 0.6121\n",
      "Epoch 22/50\n",
      "225/225 [==============================] - 448s 2s/step - loss: 0.3033 - accuracy: 0.8915 - val_loss: 1.4681 - val_accuracy: 0.6265\n",
      "Epoch 23/50\n",
      "225/225 [==============================] - 448s 2s/step - loss: 0.2956 - accuracy: 0.8933 - val_loss: 1.5101 - val_accuracy: 0.6205\n",
      "Epoch 24/50\n",
      "225/225 [==============================] - 447s 2s/step - loss: 0.2871 - accuracy: 0.8949 - val_loss: 1.5362 - val_accuracy: 0.6259\n",
      "Epoch 25/50\n",
      "225/225 [==============================] - 447s 2s/step - loss: 0.2563 - accuracy: 0.9084 - val_loss: 1.5439 - val_accuracy: 0.6356\n",
      "Epoch 26/50\n",
      "225/225 [==============================] - 446s 2s/step - loss: 0.2559 - accuracy: 0.9081 - val_loss: 1.7339 - val_accuracy: 0.6021\n",
      "Epoch 27/50\n",
      "225/225 [==============================] - 448s 2s/step - loss: 0.2438 - accuracy: 0.9130 - val_loss: 1.6065 - val_accuracy: 0.6219\n",
      "Epoch 28/50\n",
      "225/225 [==============================] - 446s 2s/step - loss: 0.2252 - accuracy: 0.9201 - val_loss: 1.5670 - val_accuracy: 0.6301\n",
      "Epoch 29/50\n",
      "225/225 [==============================] - 447s 2s/step - loss: 0.2216 - accuracy: 0.9220 - val_loss: 1.6271 - val_accuracy: 0.6183\n",
      "Epoch 30/50\n",
      "225/225 [==============================] - 448s 2s/step - loss: 0.2035 - accuracy: 0.9288 - val_loss: 1.6469 - val_accuracy: 0.6162\n",
      "Epoch 31/50\n",
      "225/225 [==============================] - 447s 2s/step - loss: 0.1913 - accuracy: 0.9326 - val_loss: 1.8758 - val_accuracy: 0.5890\n",
      "Epoch 32/50\n",
      "225/225 [==============================] - 448s 2s/step - loss: 0.2022 - accuracy: 0.9290 - val_loss: 1.6613 - val_accuracy: 0.6273\n",
      "Epoch 33/50\n",
      "225/225 [==============================] - 447s 2s/step - loss: 0.1903 - accuracy: 0.9334 - val_loss: 1.6848 - val_accuracy: 0.6206\n",
      "Epoch 34/50\n",
      "225/225 [==============================] - 448s 2s/step - loss: 0.1859 - accuracy: 0.9333 - val_loss: 1.6772 - val_accuracy: 0.6014\n",
      "Epoch 35/50\n",
      "225/225 [==============================] - 447s 2s/step - loss: 0.1788 - accuracy: 0.9378 - val_loss: 1.7458 - val_accuracy: 0.6311\n",
      "Epoch 36/50\n",
      "225/225 [==============================] - 448s 2s/step - loss: 0.1753 - accuracy: 0.9398 - val_loss: 1.6916 - val_accuracy: 0.6346\n",
      "Epoch 37/50\n",
      "225/225 [==============================] - 449s 2s/step - loss: 0.1683 - accuracy: 0.9401 - val_loss: 1.7592 - val_accuracy: 0.6251\n",
      "Epoch 38/50\n",
      "225/225 [==============================] - 447s 2s/step - loss: 0.1611 - accuracy: 0.9430 - val_loss: 1.7403 - val_accuracy: 0.6301\n",
      "Epoch 39/50\n",
      "225/225 [==============================] - 448s 2s/step - loss: 0.1588 - accuracy: 0.9439 - val_loss: 1.6631 - val_accuracy: 0.6310\n",
      "Epoch 40/50\n",
      "225/225 [==============================] - 447s 2s/step - loss: 0.1587 - accuracy: 0.9429 - val_loss: 1.7954 - val_accuracy: 0.6330\n",
      "Epoch 41/50\n",
      "225/225 [==============================] - 448s 2s/step - loss: 0.1469 - accuracy: 0.9484 - val_loss: 1.7068 - val_accuracy: 0.6376\n",
      "Epoch 42/50\n",
      "225/225 [==============================] - 447s 2s/step - loss: 0.1471 - accuracy: 0.9496 - val_loss: 1.8674 - val_accuracy: 0.6222\n",
      "Epoch 43/50\n",
      "225/225 [==============================] - 447s 2s/step - loss: 0.1457 - accuracy: 0.9508 - val_loss: 1.8007 - val_accuracy: 0.6297\n",
      "Epoch 44/50\n",
      "225/225 [==============================] - 448s 2s/step - loss: 0.1355 - accuracy: 0.9525 - val_loss: 1.7925 - val_accuracy: 0.6361\n",
      "Epoch 45/50\n",
      "225/225 [==============================] - 448s 2s/step - loss: 0.1386 - accuracy: 0.9522 - val_loss: 1.7300 - val_accuracy: 0.6275\n",
      "Epoch 46/50\n",
      "225/225 [==============================] - 448s 2s/step - loss: 0.1339 - accuracy: 0.9528 - val_loss: 1.8130 - val_accuracy: 0.6275\n",
      "Epoch 47/50\n",
      "225/225 [==============================] - 449s 2s/step - loss: 0.1383 - accuracy: 0.9513 - val_loss: 1.9620 - val_accuracy: 0.6081\n",
      "Epoch 48/50\n",
      "225/225 [==============================] - 450s 2s/step - loss: 0.1293 - accuracy: 0.9553 - val_loss: 1.7875 - val_accuracy: 0.6343\n",
      "Epoch 49/50\n",
      "225/225 [==============================] - 449s 2s/step - loss: 0.1305 - accuracy: 0.9548 - val_loss: 1.8908 - val_accuracy: 0.6335\n",
      "Epoch 50/50\n",
      "225/225 [==============================] - 449s 2s/step - loss: 0.1284 - accuracy: 0.9551 - val_loss: 1.8507 - val_accuracy: 0.6180\n"
     ]
    }
   ],
   "source": [
    "r = cnn.fit(x=X_train,y=y_train,batch_size=128,epochs=50,validation_data=(X_test,y_test))"
   ]
  },
  {
   "cell_type": "code",
   "execution_count": 20,
   "id": "435ca68f",
   "metadata": {
    "execution": {
     "iopub.execute_input": "2022-08-16T12:21:56.714947Z",
     "iopub.status.busy": "2022-08-16T12:21:56.713661Z",
     "iopub.status.idle": "2022-08-16T12:21:56.942117Z",
     "shell.execute_reply": "2022-08-16T12:21:56.941023Z"
    },
    "papermill": {
     "duration": 0.938857,
     "end_time": "2022-08-16T12:21:56.944507",
     "exception": false,
     "start_time": "2022-08-16T12:21:56.005650",
     "status": "completed"
    },
    "tags": []
   },
   "outputs": [
    {
     "data": {
      "image/png": "[encoded data removed]",
      "text/plain": [
       "<Figure size 432x288 with 1 Axes>"
      ]
     },
     "metadata": {
      "needs_background": "light"
     },
     "output_type": "display_data"
    }
   ],
   "source": [
    "accuracy = r.history['accuracy']\n",
    "val_accuracy = r.history['val_accuracy']\n",
    "epochs = range(len(accuracy))\n",
    "plt.plot(epochs,accuracy,'r',label='Train Accuracy')\n",
    "plt.plot(epochs,val_accuracy,'b',label='Test Accuracy')\n",
    "plt.title('Accuracy Graph')\n",
    "plt.xlabel('Number of Epochs')\n",
    "plt.ylabel('Accuracy')\n",
    "plt.legend();"
   ]
  },
  {
   "cell_type": "code",
   "execution_count": 21,
   "id": "4616f7c9",
   "metadata": {
    "execution": {
     "iopub.execute_input": "2022-08-16T12:21:58.449304Z",
     "iopub.status.busy": "2022-08-16T12:21:58.448875Z",
     "iopub.status.idle": "2022-08-16T12:21:58.671489Z",
     "shell.execute_reply": "2022-08-16T12:21:58.670639Z"
    },
    "papermill": {
     "duration": 1.024754,
     "end_time": "2022-08-16T12:21:58.673942",
     "exception": false,
     "start_time": "2022-08-16T12:21:57.649188",
     "status": "completed"
    },
    "tags": []
   },
   "outputs": [
    {
     "data": {
      "image/png": "[encoded data removed]",
      "text/plain": [
       "<Figure size 432x288 with 1 Axes>"
      ]
     },
     "metadata": {
      "needs_background": "light"
     },
     "output_type": "display_data"
    }
   ],
   "source": [
    "loss = r.history['loss']\n",
    "val_loss = r.history['val_loss']\n",
    "epochs = range(len(loss))\n",
    "\n",
    "plt.plot(epochs,accuracy,'r',label='Train Loss')\n",
    "plt.plot(epochs,val_accuracy,'b',label='Test Loss')\n",
    "plt.title('Loss Graph')\n",
    "plt.xlabel('Number of Epochs')\n",
    "plt.ylabel('Loss')\n",
    "plt.legend();"
   ]
  },
  {
   "cell_type": "code",
   "execution_count": 22,
   "id": "105f138c",
   "metadata": {
    "execution": {
     "iopub.execute_input": "2022-08-16T12:22:00.074634Z",
     "iopub.status.busy": "2022-08-16T12:22:00.073532Z",
     "iopub.status.idle": "2022-08-16T12:22:00.572186Z",
     "shell.execute_reply": "2022-08-16T12:22:00.571226Z"
    },
    "papermill": {
     "duration": 1.203752,
     "end_time": "2022-08-16T12:22:00.574777",
     "exception": false,
     "start_time": "2022-08-16T12:21:59.371025",
     "status": "completed"
    },
    "tags": []
   },
   "outputs": [],
   "source": [
    "cnn.save('face_emotion_net.h5')\n",
    "model = tf.keras.models.load_model('face_emotion_net.h5')"
   ]
  },
  {
   "cell_type": "markdown",
   "id": "f64ef0a7",
   "metadata": {
    "papermill": {
     "duration": 0.706262,
     "end_time": "2022-08-16T12:22:02.084797",
     "exception": false,
     "start_time": "2022-08-16T12:22:01.378535",
     "status": "completed"
    },
    "tags": []
   },
   "source": [
    "## **Test with an image of Test data**"
   ]
  },
  {
   "cell_type": "code",
   "execution_count": 23,
   "id": "48edbc49",
   "metadata": {
    "execution": {
     "iopub.execute_input": "2022-08-16T12:22:03.498682Z",
     "iopub.status.busy": "2022-08-16T12:22:03.497967Z",
     "iopub.status.idle": "2022-08-16T12:22:03.978775Z",
     "shell.execute_reply": "2022-08-16T12:22:03.977951Z"
    },
    "papermill": {
     "duration": 1.188263,
     "end_time": "2022-08-16T12:22:03.980991",
     "exception": false,
     "start_time": "2022-08-16T12:22:02.792728",
     "status": "completed"
    },
    "tags": []
   },
   "outputs": [
    {
     "name": "stdout",
     "output_type": "stream",
     "text": [
      "Original Label: fear\n",
      "Predicted Label: sad\n"
     ]
    },
    {
     "data": {
      "image/png": "[encoded data removed]",
      "text/plain": [
       "<Figure size 432x288 with 1 Axes>"
      ]
     },
     "metadata": {
      "needs_background": "light"
     },
     "output_type": "display_data"
    }
   ],
   "source": [
    "img_idx = random.randint(0,len(test))\n",
    "print(\"Original Label:\", test['label'][img_idx])\n",
    "pred = cnn.predict(X_test[img_idx].reshape(1,48,48,1))\n",
    "predicted_label = le.inverse_transform([pred.argmax()])[0]\n",
    "print(\"Predicted Label:\", predicted_label)\n",
    "plt.imshow(X_test[img_idx].reshape(48,48),cmap='gray');"
   ]
  }
 ],
 "metadata": {
  "kernelspec": {
   "display_name": "Python 3",
   "language": "python",
   "name": "python3"
  },
  "language_info": {
   "codemirror_mode": {
    "name": "ipython",
    "version": 3
   },
   "file_extension": ".py",
   "mimetype": "text/x-python",
   "name": "python",
   "nbconvert_exporter": "python",
   "pygments_lexer": "ipython3",
   "version": "3.7.12"
  },
  "papermill": {
   "default_parameters": {},
   "duration": 22547.197792,
   "end_time": "2022-08-16T12:22:07.454270",
   "environment_variables": {},
   "exception": null,
   "input_path": "__notebook__.ipynb",
   "output_path": "__notebook__.ipynb",
   "parameters": {},
   "start_time": "2022-08-16T06:06:20.256478",
   "version": "2.3.4"
  },
  "widgets": {
   "application/vnd.jupyter.widget-state+json": {
    "state": {
     "0e5f0d9f545f4a3292299ef22f029710": {
      "model_module": "@jupyter-widgets/controls",
      "model_module_version": "1.5.0",
      "model_name": "DescriptionStyleModel",
      "state": {
       "_model_module": "@jupyter-widgets/controls",
       "_model_module_version": "1.5.0",
       "_model_name": "DescriptionStyleModel",
       "_view_count": null,
       "_view_module": "@jupyter-widgets/base",
       "_view_module_version": "1.2.0",
       "_view_name": "StyleView",
       "description_width": ""
      }
     },
     "1ca1506b71934f5288e49f91a07b9988": {
      "model_module": "@jupyter-widgets/controls",
      "model_module_version": "1.5.0",
      "model_name": "ProgressStyleModel",
      "state": {
       "_model_module": "@jupyter-widgets/controls",
       "_model_module_version": "1.5.0",
       "_model_name": "ProgressStyleModel",
       "_view_count": null,
       "_view_module": "@jupyter-widgets/base",
       "_view_module_version": "1.2.0",
       "_view_name": "StyleView",
       "bar_color": null,
       "description_width": ""
      }
     },
     "392c41a0d62e4297a7ba8e18325395c3": {
      "model_module": "@jupyter-widgets/base",
      "model_module_version": "1.2.0",
      "model_name": "LayoutModel",
      "state": {
       "_model_module": "@jupyter-widgets/base",
       "_model_module_version": "1.2.0",
       "_model_name": "LayoutModel",
       "_view_count": null,
       "_view_module": "@jupyter-widgets/base",
       "_view_module_version": "1.2.0",
       "_view_name": "LayoutView",
       "align_content": null,
       "align_items": null,
       "align_self": null,
       "border": null,
       "bottom": null,
       "display": null,
       "flex": null,
       "flex_flow": null,
       "grid_area": null,
       "grid_auto_columns": null,
       "grid_auto_flow": null,
       "grid_auto_rows": null,
       "grid_column": null,
       "grid_gap": null,
       "grid_row": null,
       "grid_template_areas": null,
       "grid_template_columns": null,
       "grid_template_rows": null,
       "height": null,
       "justify_content": null,
       "justify_items": null,
       "left": null,
       "margin": null,
       "max_height": null,
       "max_width": null,
       "min_height": null,
       "min_width": null,
       "object_fit": null,
       "object_position": null,
       "order": null,
       "overflow": null,
       "overflow_x": null,
       "overflow_y": null,
       "padding": null,
       "right": null,
       "top": null,
       "visibility": null,
       "width": null
      }
     },
     "3e0eb35422324a36a4390572dd96d485": {
      "model_module": "@jupyter-widgets/base",
      "model_module_version": "1.2.0",
      "model_name": "LayoutModel",
      "state": {
       "_model_module": "@jupyter-widgets/base",
       "_model_module_version": "1.2.0",
       "_model_name": "LayoutModel",
       "_view_count": null,
       "_view_module": "@jupyter-widgets/base",
       "_view_module_version": "1.2.0",
       "_view_name": "LayoutView",
       "align_content": null,
       "align_items": null,
       "align_self": null,
       "border": null,
       "bottom": null,
       "display": null,
       "flex": null,
       "flex_flow": null,
       "grid_area": null,
       "grid_auto_columns": null,
       "grid_auto_flow": null,
       "grid_auto_rows": null,
       "grid_column": null,
       "grid_gap": null,
       "grid_row": null,
       "grid_template_areas": null,
       "grid_template_columns": null,
       "grid_template_rows": null,
       "height": null,
       "justify_content": null,
       "justify_items": null,
       "left": null,
       "margin": null,
       "max_height": null,
       "max_width": null,
       "min_height": null,
       "min_width": null,
       "object_fit": null,
       "object_position": null,
       "order": null,
       "overflow": null,
       "overflow_x": null,
       "overflow_y": null,
       "padding": null,
       "right": null,
       "top": null,
       "visibility": null,
       "width": null
      }
     },
     "4247a127fecd459fbbe1bf0b1af46ed8": {
      "model_module": "@jupyter-widgets/controls",
      "model_module_version": "1.5.0",
      "model_name": "DescriptionStyleModel",
      "state": {
       "_model_module": "@jupyter-widgets/controls",
       "_model_module_version": "1.5.0",
       "_model_name": "DescriptionStyleModel",
       "_view_count": null,
       "_view_module": "@jupyter-widgets/base",
       "_view_module_version": "1.2.0",
       "_view_name": "StyleView",
       "description_width": ""
      }
     },
     "675dddffe01e4a9fa5ca4419bb9445d6": {
      "model_module": "@jupyter-widgets/base",
      "model_module_version": "1.2.0",
      "model_name": "LayoutModel",
      "state": {
       "_model_module": "@jupyter-widgets/base",
       "_model_module_version": "1.2.0",
       "_model_name": "LayoutModel",
       "_view_count": null,
       "_view_module": "@jupyter-widgets/base",
       "_view_module_version": "1.2.0",
       "_view_name": "LayoutView",
       "align_content": null,
       "align_items": null,
       "align_self": null,
       "border": null,
       "bottom": null,
       "display": null,
       "flex": null,
       "flex_flow": null,
       "grid_area": null,
       "grid_auto_columns": null,
       "grid_auto_flow": null,
       "grid_auto_rows": null,
       "grid_column": null,
       "grid_gap": null,
       "grid_row": null,
       "grid_template_areas": null,
       "grid_template_columns": null,
       "grid_template_rows": null,
       "height": null,
       "justify_content": null,
       "justify_items": null,
       "left": null,
       "margin": null,
       "max_height": null,
       "max_width": null,
       "min_height": null,
       "min_width": null,
       "object_fit": null,
       "object_position": null,
       "order": null,
       "overflow": null,
       "overflow_x": null,
       "overflow_y": null,
       "padding": null,
       "right": null,
       "top": null,
       "visibility": null,
       "width": null
      }
     },
     "6d7d16bc3d2b43e495ec591488791ef6": {
      "model_module": "@jupyter-widgets/base",
      "model_module_version": "1.2.0",
      "model_name": "LayoutModel",
      "state": {
       "_model_module": "@jupyter-widgets/base",
       "_model_module_version": "1.2.0",
       "_model_name": "LayoutModel",
       "_view_count": null,
       "_view_module": "@jupyter-widgets/base",
       "_view_module_version": "1.2.0",
       "_view_name": "LayoutView",
       "align_content": null,
       "align_items": null,
       "align_self": null,
       "border": null,
       "bottom": null,
       "display": null,
       "flex": null,
       "flex_flow": null,
       "grid_area": null,
       "grid_auto_columns": null,
       "grid_auto_flow": null,
       "grid_auto_rows": null,
       "grid_column": null,
       "grid_gap": null,
       "grid_row": null,
       "grid_template_areas": null,
       "grid_template_columns": null,
       "grid_template_rows": null,
       "height": null,
       "justify_content": null,
       "justify_items": null,
       "left": null,
       "margin": null,
       "max_height": null,
       "max_width": null,
       "min_height": null,
       "min_width": null,
       "object_fit": null,
       "object_position": null,
       "order": null,
       "overflow": null,
       "overflow_x": null,
       "overflow_y": null,
       "padding": null,
       "right": null,
       "top": null,
       "visibility": null,
       "width": null
      }
     },
     "7817aa8f1ae2435a99311510715228ca": {
      "model_module": "@jupyter-widgets/base",
      "model_module_version": "1.2.0",
      "model_name": "LayoutModel",
      "state": {
       "_model_module": "@jupyter-widgets/base",
       "_model_module_version": "1.2.0",
       "_model_name": "LayoutModel",
       "_view_count": null,
       "_view_module": "@jupyter-widgets/base",
       "_view_module_version": "1.2.0",
       "_view_name": "LayoutView",
       "align_content": null,
       "align_items": null,
       "align_self": null,
       "border": null,
       "bottom": null,
       "display": null,
       "flex": null,
       "flex_flow": null,
       "grid_area": null,
       "grid_auto_columns": null,
       "grid_auto_flow": null,
       "grid_auto_rows": null,
       "grid_column": null,
       "grid_gap": null,
       "grid_row": null,
       "grid_template_areas": null,
       "grid_template_columns": null,
       "grid_template_rows": null,
       "height": null,
       "justify_content": null,
       "justify_items": null,
       "left": null,
       "margin": null,
       "max_height": null,
       "max_width": null,
       "min_height": null,
       "min_width": null,
       "object_fit": null,
       "object_position": null,
       "order": null,
       "overflow": null,
       "overflow_x": null,
       "overflow_y": null,
       "padding": null,
       "right": null,
       "top": null,
       "visibility": null,
       "width": null
      }
     },
     "89e3f98d52d14d52aac32e0f91ab19e8": {
      "model_module": "@jupyter-widgets/base",
      "model_module_version": "1.2.0",
      "model_name": "LayoutModel",
      "state": {
       "_model_module": "@jupyter-widgets/base",
       "_model_module_version": "1.2.0",
       "_model_name": "LayoutModel",
       "_view_count": null,
       "_view_module": "@jupyter-widgets/base",
       "_view_module_version": "1.2.0",
       "_view_name": "LayoutView",
       "align_content": null,
       "align_items": null,
       "align_self": null,
       "border": null,
       "bottom": null,
       "display": null,
       "flex": null,
       "flex_flow": null,
       "grid_area": null,
       "grid_auto_columns": null,
       "grid_auto_flow": null,
       "grid_auto_rows": null,
       "grid_column": null,
       "grid_gap": null,
       "grid_row": null,
       "grid_template_areas": null,
       "grid_template_columns": null,
       "grid_template_rows": null,
       "height": null,
       "justify_content": null,
       "justify_items": null,
       "left": null,
       "margin": null,
       "max_height": null,
       "max_width": null,
       "min_height": null,
       "min_width": null,
       "object_fit": null,
       "object_position": null,
       "order": null,
       "overflow": null,
       "overflow_x": null,
       "overflow_y": null,
       "padding": null,
       "right": null,
       "top": null,
       "visibility": null,
       "width": null
      }
     },
     "a18b6e376b2d4c82bbed37a5ba80bea0": {
      "model_module": "@jupyter-widgets/controls",
      "model_module_version": "1.5.0",
      "model_name": "HTMLModel",
      "state": {
       "_dom_classes": [],
       "_model_module": "@jupyter-widgets/controls",
       "_model_module_version": "1.5.0",
       "_model_name": "HTMLModel",
       "_view_count": null,
       "_view_module": "@jupyter-widgets/controls",
       "_view_module_version": "1.5.0",
       "_view_name": "HTMLView",
       "description": "",
       "description_tooltip": null,
       "layout": "IPY_MODEL_675dddffe01e4a9fa5ca4419bb9445d6",
       "placeholder": "​",
       "style": "IPY_MODEL_4247a127fecd459fbbe1bf0b1af46ed8",
       "value": " 28709/28709 [02:02&lt;00:00, 247.46it/s]"
      }
     },
     "a1c1aac9afcf4ad8b17b032df5838a7b": {
      "model_module": "@jupyter-widgets/base",
      "model_module_version": "1.2.0",
      "model_name": "LayoutModel",
      "state": {
       "_model_module": "@jupyter-widgets/base",
       "_model_module_version": "1.2.0",
       "_model_name": "LayoutModel",
       "_view_count": null,
       "_view_module": "@jupyter-widgets/base",
       "_view_module_version": "1.2.0",
       "_view_name": "LayoutView",
       "align_content": null,
       "align_items": null,
       "align_self": null,
       "border": null,
       "bottom": null,
       "display": null,
       "flex": null,
       "flex_flow": null,
       "grid_area": null,
       "grid_auto_columns": null,
       "grid_auto_flow": null,
       "grid_auto_rows": null,
       "grid_column": null,
       "grid_gap": null,
       "grid_row": null,
       "grid_template_areas": null,
       "grid_template_columns": null,
       "grid_template_rows": null,
       "height": null,
       "justify_content": null,
       "justify_items": null,
       "left": null,
       "margin": null,
       "max_height": null,
       "max_width": null,
       "min_height": null,
       "min_width": null,
       "object_fit": null,
       "object_position": null,
       "order": null,
       "overflow": null,
       "overflow_x": null,
       "overflow_y": null,
       "padding": null,
       "right": null,
       "top": null,
       "visibility": null,
       "width": null
      }
     },
     "b49a3b21a9cb426eb5701171b3c1e202": {
      "model_module": "@jupyter-widgets/controls",
      "model_module_version": "1.5.0",
      "model_name": "DescriptionStyleModel",
      "state": {
       "_model_module": "@jupyter-widgets/controls",
       "_model_module_version": "1.5.0",
       "_model_name": "DescriptionStyleModel",
       "_view_count": null,
       "_view_module": "@jupyter-widgets/base",
       "_view_module_version": "1.2.0",
       "_view_name": "StyleView",
       "description_width": ""
      }
     },
     "bb2738cc72504669b10c86092af13462": {
      "model_module": "@jupyter-widgets/controls",
      "model_module_version": "1.5.0",
      "model_name": "FloatProgressModel",
      "state": {
       "_dom_classes": [],
       "_model_module": "@jupyter-widgets/controls",
       "_model_module_version": "1.5.0",
       "_model_name": "FloatProgressModel",
       "_view_count": null,
       "_view_module": "@jupyter-widgets/controls",
       "_view_module_version": "1.5.0",
       "_view_name": "ProgressView",
       "bar_style": "success",
       "description": "",
       "description_tooltip": null,
       "layout": "IPY_MODEL_392c41a0d62e4297a7ba8e18325395c3",
       "max": 28709.0,
       "min": 0.0,
       "orientation": "horizontal",
       "style": "IPY_MODEL_bb9f96bf6ad8454a8f4a2724bd246428",
       "value": 28709.0
      }
     },
     "bb9f96bf6ad8454a8f4a2724bd246428": {
      "model_module": "@jupyter-widgets/controls",
      "model_module_version": "1.5.0",
      "model_name": "ProgressStyleModel",
      "state": {
       "_model_module": "@jupyter-widgets/controls",
       "_model_module_version": "1.5.0",
       "_model_name": "ProgressStyleModel",
       "_view_count": null,
       "_view_module": "@jupyter-widgets/base",
       "_view_module_version": "1.2.0",
       "_view_name": "StyleView",
       "bar_color": null,
       "description_width": ""
      }
     },
     "bf2006e2c1bb429d9bc5c3c43c1ea398": {
      "model_module": "@jupyter-widgets/controls",
      "model_module_version": "1.5.0",
      "model_name": "HBoxModel",
      "state": {
       "_dom_classes": [],
       "_model_module": "@jupyter-widgets/controls",
       "_model_module_version": "1.5.0",
       "_model_name": "HBoxModel",
       "_view_count": null,
       "_view_module": "@jupyter-widgets/controls",
       "_view_module_version": "1.5.0",
       "_view_name": "HBoxView",
       "box_style": "",
       "children": [
        "IPY_MODEL_e29f1c3834054752809dd7e0e0a8e3a2",
        "IPY_MODEL_bb2738cc72504669b10c86092af13462",
        "IPY_MODEL_a18b6e376b2d4c82bbed37a5ba80bea0"
       ],
       "layout": "IPY_MODEL_3e0eb35422324a36a4390572dd96d485"
      }
     },
     "c6a04beced324f988cb479b832342642": {
      "model_module": "@jupyter-widgets/controls",
      "model_module_version": "1.5.0",
      "model_name": "HTMLModel",
      "state": {
       "_dom_classes": [],
       "_model_module": "@jupyter-widgets/controls",
       "_model_module_version": "1.5.0",
       "_model_name": "HTMLModel",
       "_view_count": null,
       "_view_module": "@jupyter-widgets/controls",
       "_view_module_version": "1.5.0",
       "_view_name": "HTMLView",
       "description": "",
       "description_tooltip": null,
       "layout": "IPY_MODEL_7817aa8f1ae2435a99311510715228ca",
       "placeholder": "​",
       "style": "IPY_MODEL_0e5f0d9f545f4a3292299ef22f029710",
       "value": " 7178/7178 [00:31&lt;00:00, 205.59it/s]"
      }
     },
     "e29f1c3834054752809dd7e0e0a8e3a2": {
      "model_module": "@jupyter-widgets/controls",
      "model_module_version": "1.5.0",
      "model_name": "HTMLModel",
      "state": {
       "_dom_classes": [],
       "_model_module": "@jupyter-widgets/controls",
       "_model_module_version": "1.5.0",
       "_model_name": "HTMLModel",
       "_view_count": null,
       "_view_module": "@jupyter-widgets/controls",
       "_view_module_version": "1.5.0",
       "_view_name": "HTMLView",
       "description": "",
       "description_tooltip": null,
       "layout": "IPY_MODEL_a1c1aac9afcf4ad8b17b032df5838a7b",
       "placeholder": "​",
       "style": "IPY_MODEL_b49a3b21a9cb426eb5701171b3c1e202",
       "value": "100%"
      }
     },
     "ec94f9de2ddf4b9392953a6aa039ad44": {
      "model_module": "@jupyter-widgets/base",
      "model_module_version": "1.2.0",
      "model_name": "LayoutModel",
      "state": {
       "_model_module": "@jupyter-widgets/base",
       "_model_module_version": "1.2.0",
       "_model_name": "LayoutModel",
       "_view_count": null,
       "_view_module": "@jupyter-widgets/base",
       "_view_module_version": "1.2.0",
       "_view_name": "LayoutView",
       "align_content": null,
       "align_items": null,
       "align_self": null,
       "border": null,
       "bottom": null,
       "display": null,
       "flex": null,
       "flex_flow": null,
       "grid_area": null,
       "grid_auto_columns": null,
       "grid_auto_flow": null,
       "grid_auto_rows": null,
       "grid_column": null,
       "grid_gap": null,
       "grid_row": null,
       "grid_template_areas": null,
       "grid_template_columns": null,
       "grid_template_rows": null,
       "height": null,
       "justify_content": null,
       "justify_items": null,
       "left": null,
       "margin": null,
       "max_height": null,
       "max_width": null,
       "min_height": null,
       "min_width": null,
       "object_fit": null,
       "object_position": null,
       "order": null,
       "overflow": null,
       "overflow_x": null,
       "overflow_y": null,
       "padding": null,
       "right": null,
       "top": null,
       "visibility": null,
       "width": null
      }
     },
     "fd1a1d9fa34a4383aec8507c855e45cb": {
      "model_module": "@jupyter-widgets/controls",
      "model_module_version": "1.5.0",
      "model_name": "DescriptionStyleModel",
      "state": {
       "_model_module": "@jupyter-widgets/controls",
       "_model_module_version": "1.5.0",
       "_model_name": "DescriptionStyleModel",
       "_view_count": null,
       "_view_module": "@jupyter-widgets/base",
       "_view_module_version": "1.2.0",
       "_view_name": "StyleView",
       "description_width": ""
      }
     },
     "fed5b2e967be46cab940fcddc17221df": {
      "model_module": "@jupyter-widgets/controls",
      "model_module_version": "1.5.0",
      "model_name": "HBoxModel",
      "state": {
       "_dom_classes": [],
       "_model_module": "@jupyter-widgets/controls",
       "_model_module_version": "1.5.0",
       "_model_name": "HBoxModel",
       "_view_count": null,
       "_view_module": "@jupyter-widgets/controls",
       "_view_module_version": "1.5.0",
       "_view_name": "HBoxView",
       "box_style": "",
       "children": [
        "IPY_MODEL_ff0c84e32c184faa94994da01a9b2165",
        "IPY_MODEL_fef7e9a6ce6143499fc83ded849a4fde",
        "IPY_MODEL_c6a04beced324f988cb479b832342642"
       ],
       "layout": "IPY_MODEL_6d7d16bc3d2b43e495ec591488791ef6"
      }
     },
     "fef7e9a6ce6143499fc83ded849a4fde": {
      "model_module": "@jupyter-widgets/controls",
      "model_module_version": "1.5.0",
      "model_name": "FloatProgressModel",
      "state": {
       "_dom_classes": [],
       "_model_module": "@jupyter-widgets/controls",
       "_model_module_version": "1.5.0",
       "_model_name": "FloatProgressModel",
       "_view_count": null,
       "_view_module": "@jupyter-widgets/controls",
       "_view_module_version": "1.5.0",
       "_view_name": "ProgressView",
       "bar_style": "success",
       "description": "",
       "description_tooltip": null,
       "layout": "IPY_MODEL_89e3f98d52d14d52aac32e0f91ab19e8",
       "max": 7178.0,
       "min": 0.0,
       "orientation": "horizontal",
       "style": "IPY_MODEL_1ca1506b71934f5288e49f91a07b9988",
       "value": 7178.0
      }
     },
     "ff0c84e32c184faa94994da01a9b2165": {
      "model_module": "@jupyter-widgets/controls",
      "model_module_version": "1.5.0",
      "model_name": "HTMLModel",
      "state": {
       "_dom_classes": [],
       "_model_module": "@jupyter-widgets/controls",
       "_model_module_version": "1.5.0",
       "_model_name": "HTMLModel",
       "_view_count": null,
       "_view_module": "@jupyter-widgets/controls",
       "_view_module_version": "1.5.0",
       "_view_name": "HTMLView",
       "description": "",
       "description_tooltip": null,
       "layout": "IPY_MODEL_ec94f9de2ddf4b9392953a6aa039ad44",
       "placeholder": "​",
       "style": "IPY_MODEL_fd1a1d9fa34a4383aec8507c855e45cb",
       "value": "100%"
      }
     }
    },
    "version_major": 2,
    "version_minor": 0
   }
  }
 },
 "nbformat": 4,
 "nbformat_minor": 5
}
